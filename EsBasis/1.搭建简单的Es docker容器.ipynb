{
 "cells": [
  {
   "cell_type": "markdown",
   "metadata": {},
   "source": [
    "#### 1.设置国内镜像地址，为docker加速"
   ]
  },
  {
   "cell_type": "code",
   "execution_count": null,
   "metadata": {},
   "outputs": [],
   "source": [
    "sudo vim /etc/docker/daemon.json\n",
    "{\n",
    "    \"registry-mirrors\": [\"https://wixr7yss.mirror.aliyuncs.com\"] \n",
    "}\n",
    "sudo systemctl daemon-reload\n",
    "sudo systemctl restart docker"
   ]
  },
  {
   "cell_type": "markdown",
   "metadata": {},
   "source": [
    "#### 2.创建网段，为了让后期同一机器上的es容器处于同一个网段上，这样我们使用一台机器就可以创建一个es集群"
   ]
  },
  {
   "cell_type": "code",
   "execution_count": null,
   "metadata": {},
   "outputs": [],
   "source": [
    "docker network create --subnet=172.18.0.0/16 esNet"
   ]
  },
  {
   "cell_type": "markdown",
   "metadata": {},
   "source": [
    "#### 3.拉取es镜像（我们拉取一个包含kibana的es镜像，先进行es的入门）"
   ]
  },
  {
   "cell_type": "code",
   "execution_count": null,
   "metadata": {},
   "outputs": [],
   "source": [
    "ocker pull nshou/elasticsearch-kibana"
   ]
  },
  {
   "cell_type": "markdown",
   "metadata": {},
   "source": [
    "#### 4.创建es容器"
   ]
  },
  {
   "cell_type": "code",
   "execution_count": null,
   "metadata": {},
   "outputs": [],
   "source": [
    "docker run -e ES_JAVA_OPTS=\"-Xms256m -Xmx256m\" --restart always  --privileged=true -d -p 9200:9200 -p 9300:9300 -p 5601:5601 --net esNet --ip 172.18.0.8  --name es01 6a72f19c1678"
   ]
  },
  {
   "cell_type": "markdown",
   "metadata": {},
   "source": [
    "#### 5.参数解释"
   ]
  },
  {
   "cell_type": "code",
   "execution_count": null,
   "metadata": {},
   "outputs": [],
   "source": [
    "ES_JAVA_OPTS=\"-Xms256m -Xmx256m\"  //设置JVM内存，默认2G\n",
    "--restart always  //自动重启\n",
    "--privileged=true //设置权限\n",
    "-d //后台启动\n",
    "-p //端口号\n",
    "--net //设置网段\n",
    "--name //为容器设置名字\n",
    "6a72f19c1678 //镜像的 IMAGE ID"
   ]
  },
  {
   "cell_type": "markdown",
   "metadata": {},
   "source": [
    "#### 6.开放端口号"
   ]
  },
  {
   "cell_type": "code",
   "execution_count": null,
   "metadata": {},
   "outputs": [],
   "source": [
    "# 开放端口\n",
    "firewall-cmd --zone=public --add-port=9200-9202/tcp --permanent\n",
    "firewall-cmd --zone=public --add-port=9300-9302/tcp --permanent\n",
    "firewall-cmd --zone=public --add-port=5601/tcp --permanent\n",
    "# 重启防火墙\n",
    "systemctl status firewalld\n",
    "# 查看已经开放的端口号\n",
    "firewall-cmd --zone=public --list-ports"
   ]
  },
  {
   "cell_type": "markdown",
   "metadata": {},
   "source": [
    "#### 7.查看es容器和kinaba是否创建成功，换成自己的主机地址，如果能够正常显示，则表明创建成功！"
   ]
  },
  {
   "cell_type": "markdown",
   "metadata": {},
   "source": [
    "7.1 浏览器输入：192.168.27.**:5601"
   ]
  },
  {
   "cell_type": "markdown",
   "metadata": {},
   "source": [
    "7.2 浏览器输入：192.168.27.**:9200"
   ]
  },
  {
   "cell_type": "code",
   "execution_count": null,
   "metadata": {},
   "outputs": [],
   "source": [
    "![]()"
   ]
  }
 ],
 "metadata": {
  "kernelspec": {
   "display_name": "Python 3",
   "language": "python",
   "name": "python3"
  },
  "language_info": {
   "codemirror_mode": {
    "name": "ipython",
    "version": 3
   },
   "file_extension": ".py",
   "mimetype": "text/x-python",
   "name": "python",
   "nbconvert_exporter": "python",
   "pygments_lexer": "ipython3",
   "version": "3.7.4"
  }
 },
 "nbformat": 4,
 "nbformat_minor": 2
}
